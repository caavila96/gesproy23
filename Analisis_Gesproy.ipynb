{
  "nbformat": 4,
  "nbformat_minor": 0,
  "metadata": {
    "colab": {
      "provenance": [],
      "include_colab_link": true
    },
    "kernelspec": {
      "name": "python3",
      "display_name": "Python 3"
    },
    "language_info": {
      "name": "python"
    }
  },
  "cells": [
    {
      "cell_type": "markdown",
      "metadata": {
        "id": "view-in-github",
        "colab_type": "text"
      },
      "source": [
        "<a href=\"https://colab.research.google.com/github/caavila96/gesproy23/blob/main/Analisis_Gesproy.ipynb\" target=\"_parent\"><img src=\"https://colab.research.google.com/assets/colab-badge.svg\" alt=\"Open In Colab\"/></a>"
      ]
    },
    {
      "cell_type": "markdown",
      "source": [
        "# **Análisis de la base de datos de Gestión de Proyectos del Sistema General de Regalias - Gesproy**"
      ],
      "metadata": {
        "id": "n-BRqU1wgO2y"
      }
    },
    {
      "cell_type": "markdown",
      "source": [
        "Autor: Camilo Andrés Avila Carreño"
      ],
      "metadata": {
        "id": "Ub5ZzJJlgRwC"
      }
    },
    {
      "cell_type": "code",
      "source": [],
      "metadata": {
        "id": "X6ZaYzg-8gnJ"
      },
      "execution_count": null,
      "outputs": []
    },
    {
      "cell_type": "markdown",
      "source": [
        "## 1. Reconocimiento del DataFrame. Tamaño, naturaleza de los datos, nombre de columnas, formato de los datos, etc."
      ],
      "metadata": {
        "id": "arCgdTt0gZF7"
      }
    },
    {
      "cell_type": "code",
      "source": [],
      "metadata": {
        "id": "_8RSmGyW8iBK"
      },
      "execution_count": null,
      "outputs": []
    },
    {
      "cell_type": "markdown",
      "source": [
        "## 2. Asegurar que las variables numéricas estén en el formato correcto."
      ],
      "metadata": {
        "id": "AbecX-TQgjU5"
      }
    },
    {
      "cell_type": "code",
      "source": [],
      "metadata": {
        "id": "4MkvObv88jLn"
      },
      "execution_count": null,
      "outputs": []
    },
    {
      "cell_type": "markdown",
      "source": [
        "## 3. Reconocimiento y limpieza de los datos faltantes. Estimación del porcentaje de datos eliminados."
      ],
      "metadata": {
        "id": "vZcXxCOcgmv2"
      }
    },
    {
      "cell_type": "code",
      "source": [],
      "metadata": {
        "id": "SV656lBZ8kKv"
      },
      "execution_count": null,
      "outputs": []
    },
    {
      "cell_type": "markdown",
      "source": [
        "## 4. Calcular alguna cantidad de interés en una nueva columna."
      ],
      "metadata": {
        "id": "bN9u12CSgvE0"
      }
    },
    {
      "cell_type": "code",
      "source": [],
      "metadata": {
        "id": "wQEHne4D8lFs"
      },
      "execution_count": null,
      "outputs": []
    },
    {
      "cell_type": "markdown",
      "source": [
        "## 5. Genere nuevos DataFrames agrupando datos según características de interés, tango usando .groupby() como filtros. Una dos de los DataFrames generados por filtro y agrupamiento, inteprete cuidadosamente los datos obtenidos."
      ],
      "metadata": {
        "id": "lC_5CYIPgzRH"
      }
    },
    {
      "cell_type": "code",
      "source": [],
      "metadata": {
        "id": "6grcQcbs8l-8"
      },
      "execution_count": null,
      "outputs": []
    },
    {
      "cell_type": "markdown",
      "source": [
        "## 6. Graficar variables numéricas matizando según variables categóricas (hue)."
      ],
      "metadata": {
        "id": "gXbQ1ftkg3jy"
      }
    },
    {
      "cell_type": "code",
      "source": [],
      "metadata": {
        "id": "3ppK-cSq8mqe"
      },
      "execution_count": null,
      "outputs": []
    },
    {
      "cell_type": "markdown",
      "source": [
        "## 7. Construir tablas pivote y hacer gráficas de calor de las mismas."
      ],
      "metadata": {
        "id": "PINS4fGcg7Lg"
      }
    },
    {
      "cell_type": "code",
      "source": [],
      "metadata": {
        "id": "nzXfA7Hc8nQE"
      },
      "execution_count": null,
      "outputs": []
    },
    {
      "cell_type": "markdown",
      "source": [
        "## 8. Hacer al menos dos gráficas con datos categóricos."
      ],
      "metadata": {
        "id": "GhJesYSOg-jq"
      }
    },
    {
      "cell_type": "code",
      "source": [],
      "metadata": {
        "id": "33wR5A9P8nvJ"
      },
      "execution_count": null,
      "outputs": []
    },
    {
      "cell_type": "markdown",
      "source": [
        "## 9. Graficar y analizar la correlación de las variables numéricas del DataSet."
      ],
      "metadata": {
        "id": "9dvDm4jvhCR7"
      }
    },
    {
      "cell_type": "code",
      "source": [],
      "metadata": {
        "id": "PZqnmLSV8oOl"
      },
      "execution_count": null,
      "outputs": []
    },
    {
      "cell_type": "markdown",
      "source": [
        "## 10. Use *expresiones regulares* ( $\\hat{ }$ , .* , \\$ , etc. ) para filtrar dependiendo contenidos de texto y grafique los resultados obtenidos. "
      ],
      "metadata": {
        "id": "lkoZBpKmgNR7"
      }
    },
    {
      "cell_type": "code",
      "source": [],
      "metadata": {
        "id": "zGOLL4Rk8ovn"
      },
      "execution_count": null,
      "outputs": []
    }
  ]
}